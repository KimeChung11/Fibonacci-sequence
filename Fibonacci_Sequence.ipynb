{
 "cells": [
  {
   "cell_type": "markdown",
   "metadata": {},
   "source": [
    "The Fibonacci sequence is the sum of the two preceding ones, starting from 0 and 1. $F_0=0, F_1=1$, and $F_n = F_{n-1}+F_{n-2}$ when n>1. \n",
    "The sequence is 0, 1, 1, 2, 3, 5, 8, 13, 21, 34, 55, 89, 144, ..."
   ]
  },
  {
   "cell_type": "markdown",
   "metadata": {},
   "source": [
    "### Print the first 'num' terms of Fibonacci sequence"
   ]
  },
  {
   "cell_type": "code",
   "execution_count": 68,
   "metadata": {},
   "outputs": [],
   "source": [
    "# Fibonacci sequence \n",
    "def fib(num):\n",
    "    \n",
    "    # The first two terms of the Fibonacci sequesnce\n",
    "    f0 = 0\n",
    "    f1 = 1\n",
    "    \n",
    "    # for loop prints the sequesce of 'num' terms \n",
    "    for sequence in range(num):\n",
    "        print(f0, end=\" \")    # print the first term\n",
    "        f2 = f0 + f1          # calculate the third term = sum of two preceding terms\n",
    "        f0 = f1               # shift the second term to the first\n",
    "        f1 = f2               # shift the third term to the second\n",
    "    "
   ]
  },
  {
   "cell_type": "code",
   "execution_count": 69,
   "metadata": {},
   "outputs": [
    {
     "name": "stdout",
     "output_type": "stream",
     "text": [
      "0 "
     ]
    }
   ],
   "source": [
    "fib(1)"
   ]
  },
  {
   "cell_type": "code",
   "execution_count": 70,
   "metadata": {},
   "outputs": [
    {
     "name": "stdout",
     "output_type": "stream",
     "text": [
      "0 1 1 2 3 5 8 13 21 34 55 "
     ]
    }
   ],
   "source": [
    "fib(11)"
   ]
  },
  {
   "cell_type": "code",
   "execution_count": 71,
   "metadata": {},
   "outputs": [
    {
     "name": "stdout",
     "output_type": "stream",
     "text": [
      "0 1 1 2 3 5 8 13 21 34 55 89 144 233 377 610 987 1597 2584 4181 6765 10946 17711 28657 46368 75025 121393 196418 317811 514229 832040 1346269 2178309 3524578 5702887 9227465 14930352 24157817 39088169 63245986 102334155 165580141 267914296 433494437 701408733 1134903170 1836311903 2971215073 4807526976 7778742049 12586269025 20365011074 32951280099 53316291173 86267571272 139583862445 225851433717 365435296162 591286729879 956722026041 1548008755920 2504730781961 4052739537881 6557470319842 10610209857723 17167680177565 27777890035288 44945570212853 72723460248141 117669030460994 190392490709135 308061521170129 498454011879264 806515533049393 1304969544928657 2111485077978050 3416454622906707 5527939700884757 8944394323791464 14472334024676221 23416728348467685 37889062373143906 61305790721611591 99194853094755497 160500643816367088 259695496911122585 420196140727489673 679891637638612258 1100087778366101931 1779979416004714189 2880067194370816120 4660046610375530309 7540113804746346429 12200160415121876738 19740274219868223167 31940434634990099905 51680708854858323072 83621143489848422977 135301852344706746049 218922995834555169026 "
     ]
    }
   ],
   "source": [
    "fib(100)"
   ]
  },
  {
   "cell_type": "markdown",
   "metadata": {},
   "source": [
    "### Print the first 'num' terms of Fibonacci sequence with its order number"
   ]
  },
  {
   "cell_type": "code",
   "execution_count": 72,
   "metadata": {},
   "outputs": [],
   "source": [
    "# Fibonacci sequence function\n",
    "def fib(num):\n",
    "    \n",
    "    # The first two terms of the Fibonacci sequesnce\n",
    "    f0 = 0\n",
    "    f1 = 1\n",
    "    order = 1\n",
    "    # for loop prints the sequesce of 'num' terms \n",
    "    for sequence in range(num):\n",
    "        print('[',order,']',f0, end=\" \")    # print the first term\n",
    "        f2 = f0 + f1          # calculate the third term = sum of two preceding terms\n",
    "        f0 = f1               # shift the second term to the first\n",
    "        f1 = f2               # shift the third term to the second\n",
    "        order += 1"
   ]
  },
  {
   "cell_type": "code",
   "execution_count": 74,
   "metadata": {},
   "outputs": [
    {
     "name": "stdout",
     "output_type": "stream",
     "text": [
      "[ 1 ] 0 [ 2 ] 1 [ 3 ] 1 [ 4 ] 2 [ 5 ] 3 [ 6 ] 5 [ 7 ] 8 [ 8 ] 13 [ 9 ] 21 [ 10 ] 34 [ 11 ] 55 "
     ]
    }
   ],
   "source": [
    "fib(11)"
   ]
  },
  {
   "cell_type": "code",
   "execution_count": 75,
   "metadata": {},
   "outputs": [
    {
     "name": "stdout",
     "output_type": "stream",
     "text": [
      "[ 1 ] 0 [ 2 ] 1 [ 3 ] 1 [ 4 ] 2 [ 5 ] 3 [ 6 ] 5 [ 7 ] 8 [ 8 ] 13 [ 9 ] 21 [ 10 ] 34 [ 11 ] 55 [ 12 ] 89 [ 13 ] 144 [ 14 ] 233 [ 15 ] 377 [ 16 ] 610 [ 17 ] 987 [ 18 ] 1597 [ 19 ] 2584 [ 20 ] 4181 [ 21 ] 6765 [ 22 ] 10946 [ 23 ] 17711 [ 24 ] 28657 [ 25 ] 46368 [ 26 ] 75025 [ 27 ] 121393 [ 28 ] 196418 [ 29 ] 317811 [ 30 ] 514229 [ 31 ] 832040 [ 32 ] 1346269 [ 33 ] 2178309 "
     ]
    }
   ],
   "source": [
    "fib(33)"
   ]
  },
  {
   "cell_type": "markdown",
   "metadata": {},
   "source": [
    "### Print only the nth term in Fibonacci sequence"
   ]
  },
  {
   "cell_type": "code",
   "execution_count": 10,
   "metadata": {},
   "outputs": [],
   "source": [
    "# lambda function\n",
    "fib = lambda n, f0 = 0, f1 = 1 : f0 if n<=1 else fib(n-1, f1, f0 + f1)"
   ]
  },
  {
   "cell_type": "code",
   "execution_count": 11,
   "metadata": {},
   "outputs": [
    {
     "data": {
      "text/plain": [
       "0"
      ]
     },
     "execution_count": 11,
     "metadata": {},
     "output_type": "execute_result"
    }
   ],
   "source": [
    "fib(1) # the 1st term"
   ]
  },
  {
   "cell_type": "code",
   "execution_count": 12,
   "metadata": {},
   "outputs": [
    {
     "data": {
      "text/plain": [
       "1"
      ]
     },
     "execution_count": 12,
     "metadata": {},
     "output_type": "execute_result"
    }
   ],
   "source": [
    "fib(2)  # the 2nd term"
   ]
  },
  {
   "cell_type": "code",
   "execution_count": 13,
   "metadata": {},
   "outputs": [
    {
     "data": {
      "text/plain": [
       "55"
      ]
     },
     "execution_count": 13,
     "metadata": {},
     "output_type": "execute_result"
    }
   ],
   "source": [
    "fib(11) # the 11th term"
   ]
  },
  {
   "cell_type": "code",
   "execution_count": null,
   "metadata": {},
   "outputs": [],
   "source": []
  }
 ],
 "metadata": {
  "kernelspec": {
   "display_name": "Python 3",
   "language": "python",
   "name": "python3"
  },
  "language_info": {
   "codemirror_mode": {
    "name": "ipython",
    "version": 3
   },
   "file_extension": ".py",
   "mimetype": "text/x-python",
   "name": "python",
   "nbconvert_exporter": "python",
   "pygments_lexer": "ipython3",
   "version": "3.8.5"
  }
 },
 "nbformat": 4,
 "nbformat_minor": 4
}

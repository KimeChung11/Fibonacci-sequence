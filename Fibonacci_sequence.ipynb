{
 "cells": [
  {
   "cell_type": "markdown",
   "metadata": {},
   "source": [
    "The Fibonacci sequence is the sum of the two preceding ones, starting from 0 and 1. $F_0=0, F_1=1$, and $F_n = F_{n-1}+F_{n-2}$ when n>1. The sequence is 0, 1, 1, 2, 3, 5, 8, 13, 21, 34, 55, 89, 144, ..."
   ]
  },
  {
   "cell_type": "code",
   "execution_count": 1,
   "metadata": {},
   "outputs": [],
   "source": [
    "# Fibonacci sequence function\n",
    "def fib():\n",
    "    # Ask for user input\n",
    "    num = eval(input('How many terms do you want to see? :'))\n",
    "    # The first two terms of the Fibonacci sequesnce\n",
    "    f0 = 0\n",
    "    f1 = 1\n",
    "    # for loop prints the sequesce of 'num' terms \n",
    "    for sequence in range(num):\n",
    "        print(f0, end=\" \")    # print the first term\n",
    "        f2 = f0 + f1          # calculate the third term = sum of two preceding terms\n",
    "        f0 = f1               # shift the second term to the first\n",
    "        f1 = f2               # shift the third term to the second\n",
    "    "
   ]
  },
  {
   "cell_type": "code",
   "execution_count": 2,
   "metadata": {},
   "outputs": [
    {
     "name": "stdin",
     "output_type": "stream",
     "text": [
      "How many terms do you want to see? : 3\n"
     ]
    },
    {
     "name": "stdout",
     "output_type": "stream",
     "text": [
      "0 1 1 "
     ]
    }
   ],
   "source": [
    "fib()"
   ]
  },
  {
   "cell_type": "code",
   "execution_count": 3,
   "metadata": {},
   "outputs": [
    {
     "name": "stdin",
     "output_type": "stream",
     "text": [
      "How many terms do you want to see? : 11\n"
     ]
    },
    {
     "name": "stdout",
     "output_type": "stream",
     "text": [
      "0 1 1 2 3 5 8 13 21 34 55 "
     ]
    }
   ],
   "source": [
    "fib()"
   ]
  },
  {
   "cell_type": "code",
   "execution_count": null,
   "metadata": {},
   "outputs": [],
   "source": []
  }
 ],
 "metadata": {
  "kernelspec": {
   "display_name": "Python 3",
   "language": "python",
   "name": "python3"
  },
  "language_info": {
   "codemirror_mode": {
    "name": "ipython",
    "version": 3
   },
   "file_extension": ".py",
   "mimetype": "text/x-python",
   "name": "python",
   "nbconvert_exporter": "python",
   "pygments_lexer": "ipython3",
   "version": "3.8.5"
  }
 },
 "nbformat": 4,
 "nbformat_minor": 4
}
